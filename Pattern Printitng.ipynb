{
 "cells": [
  {
   "cell_type": "markdown",
   "id": "2e3bfe55",
   "metadata": {},
   "source": [
    "## Basics "
   ]
  },
  {
   "cell_type": "code",
   "execution_count": 9,
   "id": "2b262056",
   "metadata": {},
   "outputs": [
    {
     "name": "stdout",
     "output_type": "stream",
     "text": [
      "0 0\n",
      "0 1\n",
      "0 2\n",
      "0 3\n",
      "0 4\n",
      "\n",
      "1 0\n",
      "1 1\n",
      "1 2\n",
      "1 3\n",
      "1 4\n",
      "\n",
      "2 0\n",
      "2 1\n",
      "2 2\n",
      "2 3\n",
      "2 4\n",
      "\n",
      "3 0\n",
      "3 1\n",
      "3 2\n",
      "3 3\n",
      "3 4\n",
      "\n",
      "4 0\n",
      "4 1\n",
      "4 2\n",
      "4 3\n",
      "4 4\n",
      "\n"
     ]
    }
   ],
   "source": [
    "for i in range(5): # Responsible for Rows\n",
    "    for j in range(5): # Responzible of Columns\n",
    "        print(i,j)\n",
    "    \n",
    "    print()"
   ]
  },
  {
   "cell_type": "code",
   "execution_count": 10,
   "id": "dd48c017",
   "metadata": {},
   "outputs": [
    {
     "name": "stdout",
     "output_type": "stream",
     "text": [
      "0 0 0 0 0 \n",
      "1 1 1 1 1 \n",
      "2 2 2 2 2 \n",
      "3 3 3 3 3 \n",
      "4 4 4 4 4 \n"
     ]
    }
   ],
   "source": [
    "\n",
    "for i in range(5):\n",
    "    for j in range(5):\n",
    "        print(i,end=' ')\n",
    "    print()"
   ]
  },
  {
   "cell_type": "code",
   "execution_count": 37,
   "id": "c7246862",
   "metadata": {},
   "outputs": [
    {
     "name": "stdout",
     "output_type": "stream",
     "text": [
      "0 1 2 3 4 \n",
      "0 1 2 3 4 \n",
      "0 1 2 3 4 \n",
      "0 1 2 3 4 \n",
      "0 1 2 3 4 \n"
     ]
    }
   ],
   "source": [
    "\n",
    "for i in range(5):\n",
    "    for j in range(5):\n",
    "        print(j,end=' ')\n",
    "    print()"
   ]
  },
  {
   "cell_type": "markdown",
   "id": "36a68e8e",
   "metadata": {},
   "source": [
    "## Left Half Pyramid\n",
    "\n",
    " 1\n",
    " \n",
    " 1 2\n",
    " \n",
    " 1 2 3\n",
    " \n",
    " 1 2 3 4\n",
    " \n",
    " 1 2 3 4 5\n",
    "\n"
   ]
  },
  {
   "cell_type": "code",
   "execution_count": 13,
   "id": "72de27bb",
   "metadata": {},
   "outputs": [
    {
     "name": "stdout",
     "output_type": "stream",
     "text": [
      "\n",
      "1 \n",
      "1 2 \n",
      "1 2 3 \n",
      "1 2 3 4 \n",
      "1 2 3 4 5 \n"
     ]
    }
   ],
   "source": [
    "for i in range(6):# responsible for rows \n",
    "    for j in range(1,i+1): # responsible for columns\n",
    "        print(j,end=' ')\n",
    "    print()"
   ]
  },
  {
   "cell_type": "markdown",
   "id": "f41f7da1",
   "metadata": {},
   "source": [
    "## DownWard Left Half Pyramid\n",
    "\n",
    "5 4 3 2 1\n",
    "\n",
    "4 3 2 1\n",
    "\n",
    "3 2 1\n",
    "\n",
    "2 1\n",
    "\n",
    "1"
   ]
  },
  {
   "cell_type": "code",
   "execution_count": 42,
   "id": "f20d42df",
   "metadata": {},
   "outputs": [
    {
     "name": "stdout",
     "output_type": "stream",
     "text": [
      "5 4 3 2 1 \n",
      "5 4 3 2 \n",
      "5 4 3 \n",
      "5 4 \n",
      "5 \n"
     ]
    }
   ],
   "source": [
    "for i in range(5):\n",
    "    for j in range(5,i,-1):\n",
    "        print(j,end=' ')\n",
    "    print()"
   ]
  },
  {
   "cell_type": "code",
   "execution_count": 38,
   "id": "5feea24c",
   "metadata": {},
   "outputs": [
    {
     "name": "stdout",
     "output_type": "stream",
     "text": [
      "* * * * * \n",
      "* * * * \n",
      "* * * \n",
      "* * \n",
      "* \n"
     ]
    }
   ],
   "source": [
    "for i in range(5):\n",
    "    for i in range(i,5):\n",
    "        print('*',end=' ')\n",
    "    print()"
   ]
  },
  {
   "cell_type": "markdown",
   "id": "3dc19a03",
   "metadata": {},
   "source": [
    "## Right Half Pyramid\n",
    "\n",
    "         *\n",
    "         \n",
    "        * *\n",
    "        \n",
    "      * * *\n",
    "      \n",
    "    * * * *\n",
    "    \n",
    "   * * * * *"
   ]
  },
  {
   "cell_type": "code",
   "execution_count": 17,
   "id": "313c7b2a",
   "metadata": {},
   "outputs": [
    {
     "name": "stdout",
     "output_type": "stream",
     "text": [
      "     *\n",
      "    **\n",
      "   ***\n",
      "  ****\n",
      " *****\n"
     ]
    }
   ],
   "source": [
    "for i in range(5):\n",
    "    for j in range(i,5):\n",
    "        print(\" \",end='')\n",
    "        \n",
    "    for k in range(i+1):\n",
    "        print(\"*\",end='')\n",
    "    print()"
   ]
  },
  {
   "cell_type": "markdown",
   "id": "923394dd",
   "metadata": {},
   "source": [
    "## Downward Right Half Pyramid\n",
    "        \n",
    "        * * * * *\n",
    "        \n",
    "          * * * *\n",
    "        \n",
    "            * * *\n",
    "        \n",
    "             * *\n",
    "        \n",
    "               *"
   ]
  },
  {
   "cell_type": "code",
   "execution_count": 18,
   "id": "1e17b320",
   "metadata": {},
   "outputs": [
    {
     "name": "stdout",
     "output_type": "stream",
     "text": [
      "*****\n",
      " ****\n",
      "  ***\n",
      "   **\n",
      "    *\n"
     ]
    }
   ],
   "source": [
    "for i in range(5):\n",
    "    for k in range(i):\n",
    "        print(\" \",end='')\n",
    "    for j in range(i,5):\n",
    "        print('*',end='')\n",
    "   \n",
    "    \n",
    "    print()"
   ]
  },
  {
   "cell_type": "markdown",
   "id": "95e39076",
   "metadata": {},
   "source": [
    "##  Whole Pyramid and Hill Pyramid\n",
    "\n",
    "\n",
    "\n",
    "               *\n",
    "               \n",
    "              * * *\n",
    "              \n",
    "            * *  *  * *\n",
    "            \n",
    "          *  * * * * * *"
   ]
  },
  {
   "cell_type": "code",
   "execution_count": 22,
   "id": "9c5b9ff1",
   "metadata": {},
   "outputs": [
    {
     "name": "stdout",
     "output_type": "stream",
     "text": [
      "    *\n",
      "   ***\n",
      "  *****\n",
      " *******\n",
      "*********\n"
     ]
    }
   ],
   "source": [
    "for i in range(5):\n",
    "    for j in range(i,4):\n",
    "        print(\" \",end='')\n",
    "        \n",
    "    for k in range(i+1):\n",
    "        print(\"*\",end='')\n",
    "    for l in range(i):\n",
    "        print(\"*\",end='')\n",
    "        \n",
    "        \n",
    "    print()"
   ]
  },
  {
   "cell_type": "markdown",
   "id": "c5e44da6",
   "metadata": {},
   "source": [
    "##  Downward Whole Pyramid and Hill Pyramid\n",
    "\n",
    "\n",
    "\n",
    "              \n",
    "               \n",
    "              \n",
    "              \n",
    "            \n",
    "            \n",
    "          *  * * * * * *\n",
    "          \n",
    "           * *  *  * *\n",
    "           \n",
    "               * * *\n",
    "               \n",
    "                 *\n",
    "           \n",
    "           "
   ]
  },
  {
   "cell_type": "code",
   "execution_count": 27,
   "id": "a5ab44de",
   "metadata": {},
   "outputs": [
    {
     "name": "stdout",
     "output_type": "stream",
     "text": [
      "*********\n",
      " *******\n",
      "  *****\n",
      "   ***\n",
      "    *\n"
     ]
    }
   ],
   "source": [
    "for i in range(5):\n",
    "    for j in range(i):\n",
    "        print(\" \",end='')\n",
    "        \n",
    "    for k in range(i,5):\n",
    "        print(\"*\",end='')\n",
    "    \n",
    "    for l in range(i,4):\n",
    "        print(\"*\",end='')\n",
    "    \n",
    "\n",
    "        \n",
    "    print()"
   ]
  },
  {
   "cell_type": "markdown",
   "id": "f9ca8b41",
   "metadata": {},
   "source": [
    "## Diamond Pyramid \n",
    "                \n",
    "                \n",
    "                *\n",
    "               ***\n",
    "              *****\n",
    "             *******\n",
    "            *********\n",
    "             *******\n",
    "              *****\n",
    "               ***\n",
    "                *\n"
   ]
  },
  {
   "cell_type": "code",
   "execution_count": 36,
   "id": "ada835cb",
   "metadata": {
    "scrolled": true
   },
   "outputs": [
    {
     "name": "stdout",
     "output_type": "stream",
     "text": [
      "    *\n",
      "   ***\n",
      "  *****\n",
      " *******\n",
      "*********\n",
      " *******\n",
      "  *****\n",
      "   ***\n",
      "    *\n"
     ]
    }
   ],
   "source": [
    "for i in range(5):\n",
    "    for j in range(i+1,5):\n",
    "        print(\" \",end='')\n",
    "        \n",
    "    for k in range(i+1):\n",
    "        print(\"*\",end='')\n",
    "        \n",
    "    for l in range(i):\n",
    "        print(\"*\",end='')\n",
    "        \n",
    "        \n",
    "    print()\n",
    "\n",
    "    \n",
    "    \n",
    "for i in range(4):\n",
    "    for j in range(i+1):\n",
    "        print(' ',end='')\n",
    "        \n",
    "    for k in range(i,4):\n",
    "        print(\"*\",end='')\n",
    "        \n",
    "    for l in range(i+1,4):\n",
    "        print('*',end='')\n",
    "    print()"
   ]
  },
  {
   "cell_type": "code",
   "execution_count": 32,
   "id": "cdf26411",
   "metadata": {},
   "outputs": [
    {
     "name": "stdout",
     "output_type": "stream",
     "text": [
      "    *\n",
      "   ***\n",
      "  *****\n",
      " *******\n",
      "*********\n",
      " *******\n",
      "  *****\n",
      "   ***\n",
      "    *\n"
     ]
    }
   ],
   "source": [
    "for i in range(5):\n",
    "    for j in range(i+1,5):\n",
    "        print(\" \",end='')\n",
    "        \n",
    "    for k in range(i+1):\n",
    "        print(\"*\",end='')\n",
    "        \n",
    "    for l in range(i):\n",
    "        print(\"*\",end='')\n",
    "        \n",
    "        \n",
    "    print()\n",
    "\n",
    "\n",
    "\n",
    "\n",
    "\n",
    "for i in range(4):\n",
    "    for j in range(i+1):\n",
    "        print(' ',end='')\n",
    "        \n",
    "    for k in range(i,4):\n",
    "        print(\"*\",end='')\n",
    "        \n",
    "    for l in range(i+1,4):\n",
    "        print('*',end='')\n",
    "    print()"
   ]
  },
  {
   "cell_type": "code",
   "execution_count": null,
   "id": "3c707ea0",
   "metadata": {},
   "outputs": [],
   "source": []
  }
 ],
 "metadata": {
  "kernelspec": {
   "display_name": "Python 3 (ipykernel)",
   "language": "python",
   "name": "python3"
  },
  "language_info": {
   "codemirror_mode": {
    "name": "ipython",
    "version": 3
   },
   "file_extension": ".py",
   "mimetype": "text/x-python",
   "name": "python",
   "nbconvert_exporter": "python",
   "pygments_lexer": "ipython3",
   "version": "3.7.9"
  }
 },
 "nbformat": 4,
 "nbformat_minor": 5
}
